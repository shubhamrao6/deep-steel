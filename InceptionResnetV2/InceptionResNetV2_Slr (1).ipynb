{
  "nbformat": 4,
  "nbformat_minor": 0,
  "metadata": {
    "accelerator": "GPU",
    "colab": {
      "name": "InceptionResNetV2_Slr.ipynb",
      "provenance": [],
      "collapsed_sections": [],
      "toc_visible": true
    },
    "kernelspec": {
      "name": "python3",
      "display_name": "Python 3"
    },
    "language_info": {
      "codemirror_mode": {
        "name": "ipython",
        "version": 3
      },
      "file_extension": ".py",
      "mimetype": "text/x-python",
      "name": "python",
      "nbconvert_exporter": "python",
      "pygments_lexer": "ipython3",
      "version": "3.7.4"
    }
  },
  "cells": [
    {
      "cell_type": "code",
      "metadata": {
        "colab_type": "code",
        "id": "hY6eLRqjLs_N",
        "outputId": "601e9c5e-29c6-43e3-9c91-e4154b8ff785",
        "colab": {
          "base_uri": "https://localhost:8080/",
          "height": 62
        }
      },
      "source": [
        "import numpy as np\n",
        "import pandas as pd\n",
        "import matplotlib.pyplot as plt\n",
        "import seaborn as sns\n",
        "import cv2\n",
        "\n",
        "from sklearn.model_selection import train_test_split\n",
        "\n",
        "import tensorflow as tf\n",
        "from tensorflow.keras.models import Sequential\n",
        "from tensorflow.keras.layers import *\n",
        "from tensorflow.keras.optimizers import *\n",
        "# from keras.applications.vgg16 import VGG16\n",
        "from tensorflow.python.client import device_lib\n",
        "\n",
        "# from keras.utils import plot_model\n",
        "from tensorflow.keras.models import model_from_json\n",
        "from tensorflow.keras.callbacks import TensorBoard\n",
        "from tensorflow.keras.callbacks import ModelCheckpoint\n",
        "\n",
        "from tensorflow.keras.layers import Dense, Flatten, LSTM, Activation, BatchNormalization\n",
        "from tensorflow.keras.layers import Dropout, RepeatVector, TimeDistributed\n",
        "from tensorflow.keras import Input, Model\n",
        "from tensorflow.keras.layers import Lambda\n",
        "from tensorflow.keras.preprocessing.image import ImageDataGenerator"
      ],
      "execution_count": 2,
      "outputs": [
        {
          "output_type": "display_data",
          "data": {
            "text/html": [
              "<p style=\"color: red;\">\n",
              "The default version of TensorFlow in Colab will soon switch to TensorFlow 2.x.<br>\n",
              "We recommend you <a href=\"https://www.tensorflow.org/guide/migrate\" target=\"_blank\">upgrade</a> now \n",
              "or ensure your notebook will continue to use TensorFlow 1.x via the <code>%tensorflow_version 1.x</code> magic:\n",
              "<a href=\"https://colab.research.google.com/notebooks/tensorflow_version.ipynb\" target=\"_blank\">more info</a>.</p>\n"
            ],
            "text/plain": [
              "<IPython.core.display.HTML object>"
            ]
          },
          "metadata": {
            "tags": []
          }
        }
      ]
    },
    {
      "cell_type": "code",
      "metadata": {
        "colab_type": "code",
        "id": "7bSkkXItL3Sv",
        "outputId": "2fc3c7ac-60cc-4df4-f083-219f793000dd",
        "colab": {
          "base_uri": "https://localhost:8080/",
          "height": 120
        }
      },
      "source": [
        "from google.colab import drive\n",
        "drive.mount('/content/drive')"
      ],
      "execution_count": 1,
      "outputs": [
        {
          "output_type": "stream",
          "text": [
            "Go to this URL in a browser: https://accounts.google.com/o/oauth2/auth?client_id=947318989803-6bn6qk8qdgf4n4g3pfee6491hc0brc4i.apps.googleusercontent.com&redirect_uri=urn%3aietf%3awg%3aoauth%3a2.0%3aoob&response_type=code&scope=email%20https%3a%2f%2fwww.googleapis.com%2fauth%2fdocs.test%20https%3a%2f%2fwww.googleapis.com%2fauth%2fdrive%20https%3a%2f%2fwww.googleapis.com%2fauth%2fdrive.photos.readonly%20https%3a%2f%2fwww.googleapis.com%2fauth%2fpeopleapi.readonly\n",
            "\n",
            "Enter your authorization code:\n",
            "··········\n",
            "Mounted at /content/drive\n"
          ],
          "name": "stdout"
        }
      ]
    },
    {
      "cell_type": "code",
      "metadata": {
        "colab_type": "code",
        "id": "mSmJ25-OLs_c",
        "outputId": "752e8cea-011f-4a4c-d347-bae563deb6e0",
        "colab": {
          "base_uri": "https://localhost:8080/",
          "height": 50
        }
      },
      "source": [
        "X = np.load('/content/drive/My Drive/Deep Steel/X_data.npy')\n",
        "y = np.load('/content/drive/My Drive/Deep Steel/Y_data.npy')\n",
        "def indices_to_one_hot(data, nb_classes):\n",
        "    \"\"\"Convert an iterable of indices to one-hot encoded labels.\"\"\"\n",
        "    targets = np.array(data).reshape(-1)\n",
        "    return np.eye(nb_classes)[targets]\n",
        "\n",
        "y = indices_to_one_hot(y.astype(int), 5)\n",
        "X = X/255\n",
        "print(X.shape)\n",
        "print(y.shape)"
      ],
      "execution_count": 3,
      "outputs": [
        {
          "output_type": "stream",
          "text": [
            "(1857, 224, 224)\n",
            "(1857, 5)\n"
          ],
          "name": "stdout"
        }
      ]
    },
    {
      "cell_type": "code",
      "metadata": {
        "colab_type": "code",
        "id": "4kKK4ia5Ls_m",
        "outputId": "a5b3c726-14ca-4da7-e079-c7e8da084d2c",
        "colab": {
          "base_uri": "https://localhost:8080/",
          "height": 302
        }
      },
      "source": [
        "print(y[1])\n",
        "plt.imshow(X[1], 'gray')"
      ],
      "execution_count": 4,
      "outputs": [
        {
          "output_type": "stream",
          "text": [
            "[1. 0. 0. 0. 0.]\n"
          ],
          "name": "stdout"
        },
        {
          "output_type": "execute_result",
          "data": {
            "text/plain": [
              "<matplotlib.image.AxesImage at 0x7fc3dd576e10>"
            ]
          },
          "metadata": {
            "tags": []
          },
          "execution_count": 4
        },
        {
          "output_type": "display_data",
          "data": {
            "image/png": "[encoded data removed]",
            "text/plain": [
              "<Figure size 432x288 with 1 Axes>"
            ]
          },
          "metadata": {
            "tags": []
          }
        }
      ]
    },
    {
      "cell_type": "code",
      "metadata": {
        "colab_type": "code",
        "id": "W0FMrgTqLs_v",
        "outputId": "ce51023f-e7e2-4e6e-db7f-85193256bf0c",
        "colab": {
          "base_uri": "https://localhost:8080/",
          "height": 84
        }
      },
      "source": [
        "X_train, X_test, y_train, y_test = train_test_split(X, y, test_size=0.1615, random_state=42)\n",
        "\n",
        "print(X_train.shape)\n",
        "print(y_train.shape)\n",
        "print(X_test.shape)\n",
        "print(y_test.shape)\n",
        "\n",
        "train_datagen = ImageDataGenerator()\n",
        "\n",
        "test_datagen = ImageDataGenerator()\n",
        "\n",
        "train_generator = tf.keras.preprocessing.image.NumpyArrayIterator(X_train.reshape(-1,224,224,1), y_train.reshape(-1,5), \n",
        "                                                                 train_datagen,batch_size=32, shuffle=True)\n",
        "\n",
        "test_generator = tf.keras.preprocessing.image.NumpyArrayIterator(X_test.reshape(-1,224,224,1), y_test.reshape(-1,5), test_datagen,\n",
        "                                                              batch_size=32, shuffle=True)"
      ],
      "execution_count": 5,
      "outputs": [
        {
          "output_type": "stream",
          "text": [
            "(1557, 224, 224)\n",
            "(1557, 5)\n",
            "(300, 224, 224)\n",
            "(300, 5)\n"
          ],
          "name": "stdout"
        }
      ]
    },
    {
      "cell_type": "code",
      "metadata": {
        "colab_type": "code",
        "id": "0TTN3ke7Ls_2",
        "colab": {}
      },
      "source": [
        "network = tf.keras.applications.InceptionResNetV2(include_top=True, weights=None, input_shape=(224,224,1), classes=5)\n",
        "# model = Sequential()\n",
        "# model.add(network)\n",
        "# model.add(G())\n",
        "# model.add(Dense(512))\n",
        "# model.add(Dense(512))\n",
        "# model.add(Dense(5))\n",
        "\n",
        "#network.summary()"
      ],
      "execution_count": 0,
      "outputs": []
    },
    {
      "cell_type": "code",
      "metadata": {
        "colab_type": "code",
        "id": "T7Cw84OWLs_-",
        "colab": {}
      },
      "source": [
        "network.compile(loss='categorical_crossentropy',\n",
        "              optimizer=SGD(lr=0.001),\n",
        "              metrics=['accuracy'])"
      ],
      "execution_count": 0,
      "outputs": []
    },
    {
      "cell_type": "code",
      "metadata": {
        "colab_type": "code",
        "id": "bpy3AIVrLtAD",
        "colab": {}
      },
      "source": [
        "#filepath = \"/content/drive/My Drive/Deep Steel/resnet50_SrLr_best.hdf5\"\n",
        "# filepath = \"/content/drive/My Drive/Deep Steel/InceptionResNetV2/InceptionResNetV2_SLr_best.hdf5\"\n",
        "\n",
        "# checkpoint = ModelCheckpoint(filepath,\n",
        "#                             monitor='val_acc',\n",
        "#                             verbose=1,\n",
        "#                             save_best_only=True,\n",
        "#                             mode='max')\n",
        "\n",
        "#history = network.fit_generator(train_generator, epochs=1, validation_data=test_generator, callbacks=[checkpoint]) "
      ],
      "execution_count": 0,
      "outputs": []
    },
    {
      "cell_type": "code",
      "metadata": {
        "id": "Gq1sVvXwPnzQ",
        "colab_type": "code",
        "outputId": "88bd0e22-03d4-4b0f-ef76-4c0a7d297de7",
        "colab": {
          "base_uri": "https://localhost:8080/",
          "height": 1000
        }
      },
      "source": [
        "history2 = network.fit_generator(train_generator, epochs=100, validation_data=test_generator)#, callbacks=[checkpoint]) "
      ],
      "execution_count": 21,
      "outputs": [
        {
          "output_type": "stream",
          "text": [
            "Epoch 1/100\n",
            "48/49 [============================>.] - ETA: 2s - loss: 1.0400 - acc: 0.5948Epoch 1/100\n",
            "49/49 [==============================] - 139s 3s/step - loss: 1.0354 - acc: 0.5947 - val_loss: 1.6727 - val_acc: 0.2667\n",
            "Epoch 2/100\n",
            "48/49 [============================>.] - ETA: 1s - loss: 0.6965 - acc: 0.7666Epoch 1/100\n",
            "49/49 [==============================] - 78s 2s/step - loss: 0.6955 - acc: 0.7675 - val_loss: 1.9395 - val_acc: 0.2667\n",
            "Epoch 3/100\n",
            "48/49 [============================>.] - ETA: 1s - loss: 0.5931 - acc: 0.7980Epoch 1/100\n",
            "49/49 [==============================] - 78s 2s/step - loss: 0.5893 - acc: 0.8009 - val_loss: 2.2209 - val_acc: 0.2667\n",
            "Epoch 4/100\n",
            "48/49 [============================>.] - ETA: 1s - loss: 0.5310 - acc: 0.8144Epoch 1/100\n",
            "49/49 [==============================] - 78s 2s/step - loss: 0.5296 - acc: 0.8150 - val_loss: 2.5115 - val_acc: 0.2667\n",
            "Epoch 5/100\n",
            "48/49 [============================>.] - ETA: 1s - loss: 0.4707 - acc: 0.8387Epoch 1/100\n",
            "49/49 [==============================] - 79s 2s/step - loss: 0.4679 - acc: 0.8401 - val_loss: 2.7542 - val_acc: 0.2667\n",
            "Epoch 6/100\n",
            "48/49 [============================>.] - ETA: 1s - loss: 0.4416 - acc: 0.8446Epoch 1/100\n",
            "49/49 [==============================] - 78s 2s/step - loss: 0.4399 - acc: 0.8452 - val_loss: 2.9122 - val_acc: 0.2567\n",
            "Epoch 7/100\n",
            "48/49 [============================>.] - ETA: 1s - loss: 0.4393 - acc: 0.8400Epoch 1/100\n",
            "49/49 [==============================] - 78s 2s/step - loss: 0.4423 - acc: 0.8388 - val_loss: 3.2701 - val_acc: 0.2633\n",
            "Epoch 8/100\n",
            "48/49 [============================>.] - ETA: 1s - loss: 0.4095 - acc: 0.8590Epoch 1/100\n",
            "49/49 [==============================] - 78s 2s/step - loss: 0.4092 - acc: 0.8587 - val_loss: 3.3542 - val_acc: 0.2500\n",
            "Epoch 9/100\n",
            "48/49 [============================>.] - ETA: 1s - loss: 0.3572 - acc: 0.8833Epoch 1/100\n",
            "49/49 [==============================] - 78s 2s/step - loss: 0.3582 - acc: 0.8831 - val_loss: 3.3486 - val_acc: 0.2567\n",
            "Epoch 10/100\n",
            "48/49 [============================>.] - ETA: 1s - loss: 0.3521 - acc: 0.8695Epoch 1/100\n",
            "49/49 [==============================] - 78s 2s/step - loss: 0.3518 - acc: 0.8696 - val_loss: 3.0665 - val_acc: 0.2667\n",
            "Epoch 11/100\n",
            "48/49 [============================>.] - ETA: 1s - loss: 0.3268 - acc: 0.8938Epoch 1/100\n",
            "49/49 [==============================] - 78s 2s/step - loss: 0.3296 - acc: 0.8934 - val_loss: 2.3241 - val_acc: 0.3400\n",
            "Epoch 12/100\n",
            "48/49 [============================>.] - ETA: 1s - loss: 0.3357 - acc: 0.8852Epoch 1/100\n",
            "49/49 [==============================] - 78s 2s/step - loss: 0.3389 - acc: 0.8838 - val_loss: 1.4913 - val_acc: 0.4500\n",
            "Epoch 13/100\n",
            "48/49 [============================>.] - ETA: 1s - loss: 0.3103 - acc: 0.8885Epoch 1/100\n",
            "49/49 [==============================] - 79s 2s/step - loss: 0.3073 - acc: 0.8902 - val_loss: 0.8267 - val_acc: 0.6567\n",
            "Epoch 14/100\n",
            "48/49 [============================>.] - ETA: 1s - loss: 0.3151 - acc: 0.8938Epoch 1/100\n",
            "49/49 [==============================] - 78s 2s/step - loss: 0.3132 - acc: 0.8947 - val_loss: 0.5630 - val_acc: 0.7767\n",
            "Epoch 15/100\n",
            "48/49 [============================>.] - ETA: 1s - loss: 0.2891 - acc: 0.9049Epoch 1/100\n",
            "49/49 [==============================] - 78s 2s/step - loss: 0.2936 - acc: 0.9030 - val_loss: 0.4113 - val_acc: 0.8100\n",
            "Epoch 16/100\n",
            "48/49 [============================>.] - ETA: 1s - loss: 0.3041 - acc: 0.8977Epoch 1/100\n",
            "49/49 [==============================] - 78s 2s/step - loss: 0.3014 - acc: 0.8992 - val_loss: 0.4226 - val_acc: 0.8267\n",
            "Epoch 17/100\n",
            "48/49 [============================>.] - ETA: 1s - loss: 0.2689 - acc: 0.9115Epoch 1/100\n",
            "49/49 [==============================] - 79s 2s/step - loss: 0.2666 - acc: 0.9133 - val_loss: 0.2968 - val_acc: 0.8833\n",
            "Epoch 18/100\n",
            "48/49 [============================>.] - ETA: 1s - loss: 0.2475 - acc: 0.9174Epoch 1/100\n",
            "49/49 [==============================] - 78s 2s/step - loss: 0.2471 - acc: 0.9171 - val_loss: 0.2847 - val_acc: 0.8933\n",
            "Epoch 19/100\n",
            "48/49 [============================>.] - ETA: 1s - loss: 0.2514 - acc: 0.9128Epoch 1/100\n",
            "49/49 [==============================] - 78s 2s/step - loss: 0.2492 - acc: 0.9139 - val_loss: 0.2698 - val_acc: 0.8967\n",
            "Epoch 20/100\n",
            "48/49 [============================>.] - ETA: 1s - loss: 0.2540 - acc: 0.9213Epoch 1/100\n",
            "49/49 [==============================] - 78s 2s/step - loss: 0.2528 - acc: 0.9216 - val_loss: 0.2645 - val_acc: 0.9100\n",
            "Epoch 21/100\n",
            "48/49 [============================>.] - ETA: 1s - loss: 0.2258 - acc: 0.9318Epoch 1/100\n",
            "49/49 [==============================] - 78s 2s/step - loss: 0.2269 - acc: 0.9313 - val_loss: 0.2496 - val_acc: 0.9000\n",
            "Epoch 22/100\n",
            "48/49 [============================>.] - ETA: 1s - loss: 0.2260 - acc: 0.9232Epoch 1/100\n",
            "49/49 [==============================] - 78s 2s/step - loss: 0.2243 - acc: 0.9236 - val_loss: 0.2278 - val_acc: 0.9100\n",
            "Epoch 23/100\n",
            "48/49 [============================>.] - ETA: 1s - loss: 0.2265 - acc: 0.9298Epoch 1/100\n",
            "49/49 [==============================] - 78s 2s/step - loss: 0.2310 - acc: 0.9287 - val_loss: 0.2313 - val_acc: 0.9133\n",
            "Epoch 24/100\n",
            "48/49 [============================>.] - ETA: 1s - loss: 0.2388 - acc: 0.9193Epoch 1/100\n",
            "49/49 [==============================] - 79s 2s/step - loss: 0.2372 - acc: 0.9197 - val_loss: 0.2624 - val_acc: 0.9033\n",
            "Epoch 25/100\n",
            "48/49 [============================>.] - ETA: 1s - loss: 0.2293 - acc: 0.9220Epoch 1/100\n",
            "49/49 [==============================] - 78s 2s/step - loss: 0.2287 - acc: 0.9223 - val_loss: 0.2402 - val_acc: 0.9067\n",
            "Epoch 26/100\n",
            "48/49 [============================>.] - ETA: 1s - loss: 0.2164 - acc: 0.9370Epoch 1/100\n",
            "49/49 [==============================] - 78s 2s/step - loss: 0.2159 - acc: 0.9371 - val_loss: 0.2269 - val_acc: 0.9300\n",
            "Epoch 27/100\n",
            "48/49 [============================>.] - ETA: 1s - loss: 0.2398 - acc: 0.9252Epoch 1/100\n",
            "49/49 [==============================] - 78s 2s/step - loss: 0.2412 - acc: 0.9242 - val_loss: 0.2172 - val_acc: 0.9200\n",
            "Epoch 28/100\n",
            "48/49 [============================>.] - ETA: 1s - loss: 0.2026 - acc: 0.9377Epoch 1/100\n",
            "49/49 [==============================] - 78s 2s/step - loss: 0.2034 - acc: 0.9371 - val_loss: 0.2286 - val_acc: 0.9233\n",
            "Epoch 29/100\n",
            "48/49 [============================>.] - ETA: 1s - loss: 0.1905 - acc: 0.9410Epoch 1/100\n",
            "49/49 [==============================] - 78s 2s/step - loss: 0.1939 - acc: 0.9396 - val_loss: 0.2154 - val_acc: 0.9133\n",
            "Epoch 30/100\n",
            "48/49 [============================>.] - ETA: 1s - loss: 0.2030 - acc: 0.9318Epoch 1/100\n",
            "49/49 [==============================] - 78s 2s/step - loss: 0.2025 - acc: 0.9313 - val_loss: 0.2032 - val_acc: 0.9233\n",
            "Epoch 31/100\n",
            "48/49 [============================>.] - ETA: 1s - loss: 0.2001 - acc: 0.9370Epoch 1/100\n",
            "49/49 [==============================] - 78s 2s/step - loss: 0.1991 - acc: 0.9377 - val_loss: 0.2290 - val_acc: 0.9200\n",
            "Epoch 32/100\n",
            "48/49 [============================>.] - ETA: 1s - loss: 0.1754 - acc: 0.9469Epoch 1/100\n",
            "49/49 [==============================] - 78s 2s/step - loss: 0.1813 - acc: 0.9454 - val_loss: 0.4530 - val_acc: 0.8133\n",
            "Epoch 33/100\n",
            "48/49 [============================>.] - ETA: 1s - loss: 0.1913 - acc: 0.9423Epoch 1/100\n",
            "49/49 [==============================] - 78s 2s/step - loss: 0.1906 - acc: 0.9428 - val_loss: 0.1918 - val_acc: 0.9200\n",
            "Epoch 34/100\n",
            "48/49 [============================>.] - ETA: 1s - loss: 0.1718 - acc: 0.9495Epoch 1/100\n",
            "49/49 [==============================] - 78s 2s/step - loss: 0.1705 - acc: 0.9499 - val_loss: 0.1958 - val_acc: 0.9167\n",
            "Epoch 35/100\n",
            "48/49 [============================>.] - ETA: 1s - loss: 0.1809 - acc: 0.9423Epoch 1/100\n",
            "49/49 [==============================] - 78s 2s/step - loss: 0.1820 - acc: 0.9422 - val_loss: 0.2013 - val_acc: 0.9133\n",
            "Epoch 36/100\n",
            "48/49 [============================>.] - ETA: 1s - loss: 0.1746 - acc: 0.9443Epoch 1/100\n",
            "49/49 [==============================] - 79s 2s/step - loss: 0.1737 - acc: 0.9448 - val_loss: 0.1761 - val_acc: 0.9400\n",
            "Epoch 37/100\n",
            "48/49 [============================>.] - ETA: 1s - loss: 0.1562 - acc: 0.9580Epoch 1/100\n",
            "49/49 [==============================] - 78s 2s/step - loss: 0.1570 - acc: 0.9583 - val_loss: 0.1968 - val_acc: 0.9333\n",
            "Epoch 38/100\n",
            "48/49 [============================>.] - ETA: 1s - loss: 0.1710 - acc: 0.9475Epoch 1/100\n",
            "49/49 [==============================] - 78s 2s/step - loss: 0.1695 - acc: 0.9486 - val_loss: 0.1758 - val_acc: 0.9133\n",
            "Epoch 39/100\n",
            "48/49 [============================>.] - ETA: 1s - loss: 0.1527 - acc: 0.9600Epoch 1/100\n",
            "49/49 [==============================] - 78s 2s/step - loss: 0.1516 - acc: 0.9602 - val_loss: 0.1854 - val_acc: 0.9233\n",
            "Epoch 40/100\n",
            "48/49 [============================>.] - ETA: 1s - loss: 0.1617 - acc: 0.9482Epoch 1/100\n",
            "49/49 [==============================] - 79s 2s/step - loss: 0.1607 - acc: 0.9493 - val_loss: 0.1772 - val_acc: 0.9167\n",
            "Epoch 41/100\n",
            "48/49 [============================>.] - ETA: 1s - loss: 0.1579 - acc: 0.9482Epoch 1/100\n",
            "49/49 [==============================] - 78s 2s/step - loss: 0.1577 - acc: 0.9486 - val_loss: 0.1717 - val_acc: 0.9233\n",
            "Epoch 42/100\n",
            "48/49 [============================>.] - ETA: 1s - loss: 0.1494 - acc: 0.9570Epoch 1/100\n",
            "49/49 [==============================] - 78s 2s/step - loss: 0.1531 - acc: 0.9557 - val_loss: 0.1956 - val_acc: 0.9300\n",
            "Epoch 43/100\n",
            "48/49 [============================>.] - ETA: 1s - loss: 0.1441 - acc: 0.9561Epoch 1/100\n",
            "49/49 [==============================] - 78s 2s/step - loss: 0.1442 - acc: 0.9563 - val_loss: 0.1935 - val_acc: 0.9200\n",
            "Epoch 44/100\n",
            "48/49 [============================>.] - ETA: 1s - loss: 0.1375 - acc: 0.9620Epoch 1/100\n",
            "49/49 [==============================] - 78s 2s/step - loss: 0.1373 - acc: 0.9621 - val_loss: 0.1588 - val_acc: 0.9233\n",
            "Epoch 45/100\n",
            "48/49 [============================>.] - ETA: 1s - loss: 0.1291 - acc: 0.9659Epoch 1/100\n",
            "49/49 [==============================] - 78s 2s/step - loss: 0.1285 - acc: 0.9660 - val_loss: 0.1600 - val_acc: 0.9467\n",
            "Epoch 46/100\n",
            "48/49 [============================>.] - ETA: 1s - loss: 0.1314 - acc: 0.9648Epoch 1/100\n",
            "49/49 [==============================] - 78s 2s/step - loss: 0.1318 - acc: 0.9653 - val_loss: 0.1585 - val_acc: 0.9400\n",
            "Epoch 47/100\n",
            "48/49 [============================>.] - ETA: 1s - loss: 0.1347 - acc: 0.9646Epoch 1/100\n",
            "49/49 [==============================] - 79s 2s/step - loss: 0.1329 - acc: 0.9653 - val_loss: 0.1987 - val_acc: 0.9167\n",
            "Epoch 48/100\n",
            "48/49 [============================>.] - ETA: 1s - loss: 0.1348 - acc: 0.9554Epoch 1/100\n",
            "49/49 [==============================] - 78s 2s/step - loss: 0.1364 - acc: 0.9550 - val_loss: 0.1852 - val_acc: 0.9333\n",
            "Epoch 49/100\n",
            "48/49 [============================>.] - ETA: 1s - loss: 0.1272 - acc: 0.9646Epoch 1/100\n",
            "49/49 [==============================] - 78s 2s/step - loss: 0.1259 - acc: 0.9653 - val_loss: 0.1587 - val_acc: 0.9467\n",
            "Epoch 50/100\n",
            "48/49 [============================>.] - ETA: 1s - loss: 0.1246 - acc: 0.9652Epoch 1/100\n",
            "49/49 [==============================] - 78s 2s/step - loss: 0.1242 - acc: 0.9653 - val_loss: 0.1489 - val_acc: 0.9333\n",
            "Epoch 51/100\n",
            "48/49 [============================>.] - ETA: 1s - loss: 0.1264 - acc: 0.9679Epoch 1/100\n",
            "49/49 [==============================] - 78s 2s/step - loss: 0.1249 - acc: 0.9685 - val_loss: 0.1814 - val_acc: 0.9133\n",
            "Epoch 52/100\n",
            "48/49 [============================>.] - ETA: 1s - loss: 0.1188 - acc: 0.9659Epoch 1/100\n",
            "49/49 [==============================] - 78s 2s/step - loss: 0.1175 - acc: 0.9666 - val_loss: 0.1455 - val_acc: 0.9333\n",
            "Epoch 53/100\n",
            "48/49 [============================>.] - ETA: 1s - loss: 0.0975 - acc: 0.9764Epoch 1/100\n",
            "49/49 [==============================] - 78s 2s/step - loss: 0.0983 - acc: 0.9762 - val_loss: 0.1416 - val_acc: 0.9333\n",
            "Epoch 54/100\n",
            "48/49 [============================>.] - ETA: 1s - loss: 0.1029 - acc: 0.9692Epoch 1/100\n",
            "49/49 [==============================] - 78s 2s/step - loss: 0.1050 - acc: 0.9679 - val_loss: 0.1575 - val_acc: 0.9533\n",
            "Epoch 55/100\n",
            "48/49 [============================>.] - ETA: 1s - loss: 0.1026 - acc: 0.9744Epoch 1/100\n",
            "49/49 [==============================] - 78s 2s/step - loss: 0.1029 - acc: 0.9743 - val_loss: 0.1500 - val_acc: 0.9533\n",
            "Epoch 56/100\n",
            "48/49 [============================>.] - ETA: 1s - loss: 0.1082 - acc: 0.9744Epoch 1/100\n",
            "49/49 [==============================] - 78s 2s/step - loss: 0.1086 - acc: 0.9750 - val_loss: 0.2197 - val_acc: 0.9367\n",
            "Epoch 57/100\n",
            "48/49 [============================>.] - ETA: 1s - loss: 0.1062 - acc: 0.9738Epoch 1/100\n",
            "49/49 [==============================] - 78s 2s/step - loss: 0.1072 - acc: 0.9730 - val_loss: 0.1526 - val_acc: 0.9367\n",
            "Epoch 58/100\n",
            "48/49 [============================>.] - ETA: 1s - loss: 0.0873 - acc: 0.9823Epoch 1/100\n",
            "49/49 [==============================] - 78s 2s/step - loss: 0.0867 - acc: 0.9827 - val_loss: 0.1516 - val_acc: 0.9500\n",
            "Epoch 59/100\n",
            "48/49 [============================>.] - ETA: 1s - loss: 0.0878 - acc: 0.9836Epoch 1/100\n",
            "49/49 [==============================] - 79s 2s/step - loss: 0.0890 - acc: 0.9827 - val_loss: 0.1607 - val_acc: 0.9367\n",
            "Epoch 60/100\n",
            "48/49 [============================>.] - ETA: 1s - loss: 0.0827 - acc: 0.9830Epoch 1/100\n",
            "49/49 [==============================] - 78s 2s/step - loss: 0.0823 - acc: 0.9833 - val_loss: 0.1403 - val_acc: 0.9400\n",
            "Epoch 61/100\n",
            "48/49 [============================>.] - ETA: 1s - loss: 0.0928 - acc: 0.9777Epoch 1/100\n",
            "49/49 [==============================] - 78s 2s/step - loss: 0.0930 - acc: 0.9775 - val_loss: 0.1560 - val_acc: 0.9300\n",
            "Epoch 62/100\n",
            "48/49 [============================>.] - ETA: 1s - loss: 0.0879 - acc: 0.9830Epoch 1/100\n",
            "49/49 [==============================] - 78s 2s/step - loss: 0.0892 - acc: 0.9820 - val_loss: 0.1297 - val_acc: 0.9433\n",
            "Epoch 63/100\n",
            "48/49 [============================>.] - ETA: 1s - loss: 0.0831 - acc: 0.9836Epoch 1/100\n",
            "49/49 [==============================] - 79s 2s/step - loss: 0.0820 - acc: 0.9839 - val_loss: 0.1839 - val_acc: 0.9233\n",
            "Epoch 64/100\n",
            "48/49 [============================>.] - ETA: 1s - loss: 0.0998 - acc: 0.9738Epoch 1/100\n",
            "49/49 [==============================] - 78s 2s/step - loss: 0.1002 - acc: 0.9730 - val_loss: 0.1409 - val_acc: 0.9467\n",
            "Epoch 65/100\n",
            "48/49 [============================>.] - ETA: 1s - loss: 0.0958 - acc: 0.9744Epoch 1/100\n",
            "49/49 [==============================] - 78s 2s/step - loss: 0.0942 - acc: 0.9750 - val_loss: 0.1335 - val_acc: 0.9400\n",
            "Epoch 66/100\n",
            "48/49 [============================>.] - ETA: 1s - loss: 0.0845 - acc: 0.9790Epoch 1/100\n",
            "49/49 [==============================] - 78s 2s/step - loss: 0.0847 - acc: 0.9794 - val_loss: 0.1573 - val_acc: 0.9700\n",
            "Epoch 67/100\n",
            "48/49 [============================>.] - ETA: 1s - loss: 0.0973 - acc: 0.9770Epoch 1/100\n",
            "49/49 [==============================] - 78s 2s/step - loss: 0.0962 - acc: 0.9775 - val_loss: 0.1557 - val_acc: 0.9300\n",
            "Epoch 68/100\n",
            "48/49 [============================>.] - ETA: 1s - loss: 0.0862 - acc: 0.9803Epoch 1/100\n",
            "49/49 [==============================] - 78s 2s/step - loss: 0.0867 - acc: 0.9801 - val_loss: 0.2141 - val_acc: 0.9167\n",
            "Epoch 69/100\n",
            "48/49 [============================>.] - ETA: 1s - loss: 0.1099 - acc: 0.9646Epoch 1/100\n",
            "49/49 [==============================] - 78s 2s/step - loss: 0.1085 - acc: 0.9653 - val_loss: 0.1352 - val_acc: 0.9433\n",
            "Epoch 70/100\n",
            "48/49 [============================>.] - ETA: 1s - loss: 0.0824 - acc: 0.9770Epoch 1/100\n",
            "49/49 [==============================] - 78s 2s/step - loss: 0.0852 - acc: 0.9762 - val_loss: 0.1175 - val_acc: 0.9533\n",
            "Epoch 71/100\n",
            "48/49 [============================>.] - ETA: 1s - loss: 0.0814 - acc: 0.9803Epoch 1/100\n",
            "49/49 [==============================] - 78s 2s/step - loss: 0.0817 - acc: 0.9807 - val_loss: 0.1491 - val_acc: 0.9267\n",
            "Epoch 72/100\n",
            "48/49 [============================>.] - ETA: 1s - loss: 0.0740 - acc: 0.9816Epoch 1/100\n",
            "49/49 [==============================] - 78s 2s/step - loss: 0.0734 - acc: 0.9820 - val_loss: 0.1492 - val_acc: 0.9700\n",
            "Epoch 73/100\n",
            "48/49 [============================>.] - ETA: 1s - loss: 0.0773 - acc: 0.9823Epoch 1/100\n",
            "49/49 [==============================] - 78s 2s/step - loss: 0.0770 - acc: 0.9827 - val_loss: 0.1462 - val_acc: 0.9367\n",
            "Epoch 74/100\n",
            "48/49 [============================>.] - ETA: 1s - loss: 0.0715 - acc: 0.9849Epoch 1/100\n",
            "49/49 [==============================] - 78s 2s/step - loss: 0.0713 - acc: 0.9852 - val_loss: 0.1351 - val_acc: 0.9500\n",
            "Epoch 75/100\n",
            "48/49 [============================>.] - ETA: 1s - loss: 0.0713 - acc: 0.9830Epoch 1/100\n",
            "49/49 [==============================] - 79s 2s/step - loss: 0.0713 - acc: 0.9827 - val_loss: 0.1225 - val_acc: 0.9433\n",
            "Epoch 76/100\n",
            "48/49 [============================>.] - ETA: 1s - loss: 0.0868 - acc: 0.9751Epoch 1/100\n",
            "49/49 [==============================] - 78s 2s/step - loss: 0.0855 - acc: 0.9756 - val_loss: 0.1154 - val_acc: 0.9533\n",
            "Epoch 77/100\n",
            "48/49 [============================>.] - ETA: 1s - loss: 0.0793 - acc: 0.9823Epoch 1/100\n",
            "49/49 [==============================] - 78s 2s/step - loss: 0.0789 - acc: 0.9827 - val_loss: 0.1241 - val_acc: 0.9433\n",
            "Epoch 78/100\n",
            "48/49 [============================>.] - ETA: 1s - loss: 0.0757 - acc: 0.9849Epoch 1/100\n",
            "49/49 [==============================] - 78s 2s/step - loss: 0.0756 - acc: 0.9846 - val_loss: 0.1196 - val_acc: 0.9500\n",
            "Epoch 79/100\n",
            "48/49 [============================>.] - ETA: 1s - loss: 0.0872 - acc: 0.9797Epoch 1/100\n",
            "49/49 [==============================] - 78s 2s/step - loss: 0.0864 - acc: 0.9801 - val_loss: 0.1203 - val_acc: 0.9400\n",
            "Epoch 80/100\n",
            "48/49 [============================>.] - ETA: 1s - loss: 0.0689 - acc: 0.9862Epoch 1/100\n",
            "49/49 [==============================] - 78s 2s/step - loss: 0.0705 - acc: 0.9859 - val_loss: 0.1474 - val_acc: 0.9333\n",
            "Epoch 81/100\n",
            "48/49 [============================>.] - ETA: 1s - loss: 0.0722 - acc: 0.9862Epoch 1/100\n",
            "49/49 [==============================] - 78s 2s/step - loss: 0.0720 - acc: 0.9865 - val_loss: 0.1368 - val_acc: 0.9567\n",
            "Epoch 82/100\n",
            "48/49 [============================>.] - ETA: 1s - loss: 0.0578 - acc: 0.9908Epoch 1/100\n",
            "49/49 [==============================] - 79s 2s/step - loss: 0.0617 - acc: 0.9891 - val_loss: 0.2060 - val_acc: 0.9100\n",
            "Epoch 83/100\n",
            "48/49 [============================>.] - ETA: 1s - loss: 0.0588 - acc: 0.9902Epoch 1/100\n",
            "49/49 [==============================] - 78s 2s/step - loss: 0.0579 - acc: 0.9904 - val_loss: 0.1241 - val_acc: 0.9600\n",
            "Epoch 84/100\n",
            "48/49 [============================>.] - ETA: 1s - loss: 0.0556 - acc: 0.9915Epoch 1/100\n",
            "49/49 [==============================] - 78s 2s/step - loss: 0.0554 - acc: 0.9910 - val_loss: 0.1635 - val_acc: 0.9300\n",
            "Epoch 85/100\n",
            "48/49 [============================>.] - ETA: 1s - loss: 0.0658 - acc: 0.9810Epoch 1/100\n",
            "49/49 [==============================] - 78s 2s/step - loss: 0.0662 - acc: 0.9807 - val_loss: 0.1808 - val_acc: 0.9267\n",
            "Epoch 86/100\n",
            "48/49 [============================>.] - ETA: 1s - loss: 0.0670 - acc: 0.9836Epoch 1/100\n",
            "49/49 [==============================] - 79s 2s/step - loss: 0.0662 - acc: 0.9839 - val_loss: 0.1108 - val_acc: 0.9433\n",
            "Epoch 87/100\n",
            "48/49 [============================>.] - ETA: 1s - loss: 0.0688 - acc: 0.9836Epoch 1/100\n",
            "49/49 [==============================] - 78s 2s/step - loss: 0.0691 - acc: 0.9833 - val_loss: 0.1287 - val_acc: 0.9600\n",
            "Epoch 88/100\n",
            "48/49 [============================>.] - ETA: 1s - loss: 0.0692 - acc: 0.9836Epoch 1/100\n",
            "49/49 [==============================] - 78s 2s/step - loss: 0.0683 - acc: 0.9839 - val_loss: 0.1674 - val_acc: 0.9433\n",
            "Epoch 89/100\n",
            "48/49 [============================>.] - ETA: 1s - loss: 0.0626 - acc: 0.9856Epoch 1/100\n",
            "49/49 [==============================] - 78s 2s/step - loss: 0.0622 - acc: 0.9859 - val_loss: 0.1337 - val_acc: 0.9500\n",
            "Epoch 90/100\n",
            "48/49 [============================>.] - ETA: 1s - loss: 0.0608 - acc: 0.9875Epoch 1/100\n",
            "49/49 [==============================] - 78s 2s/step - loss: 0.0607 - acc: 0.9878 - val_loss: 0.1080 - val_acc: 0.9700\n",
            "Epoch 91/100\n",
            "48/49 [============================>.] - ETA: 1s - loss: 0.0608 - acc: 0.9856Epoch 1/100\n",
            "49/49 [==============================] - 78s 2s/step - loss: 0.0611 - acc: 0.9859 - val_loss: 0.1224 - val_acc: 0.9567\n",
            "Epoch 92/100\n",
            "48/49 [============================>.] - ETA: 1s - loss: 0.0625 - acc: 0.9830Epoch 1/100\n",
            "49/49 [==============================] - 78s 2s/step - loss: 0.0631 - acc: 0.9827 - val_loss: 0.1278 - val_acc: 0.9467\n",
            "Epoch 93/100\n",
            "48/49 [============================>.] - ETA: 1s - loss: 0.0528 - acc: 0.9862Epoch 1/100\n",
            "49/49 [==============================] - 79s 2s/step - loss: 0.0520 - acc: 0.9865 - val_loss: 0.1574 - val_acc: 0.9267\n",
            "Epoch 94/100\n",
            "48/49 [============================>.] - ETA: 1s - loss: 0.0695 - acc: 0.9849Epoch 1/100\n",
            "49/49 [==============================] - 78s 2s/step - loss: 0.0692 - acc: 0.9852 - val_loss: 0.1522 - val_acc: 0.9333\n",
            "Epoch 95/100\n",
            "48/49 [============================>.] - ETA: 1s - loss: 0.0550 - acc: 0.9895Epoch 1/100\n",
            "49/49 [==============================] - 78s 2s/step - loss: 0.0541 - acc: 0.9897 - val_loss: 0.1179 - val_acc: 0.9433\n",
            "Epoch 96/100\n",
            "48/49 [============================>.] - ETA: 1s - loss: 0.0435 - acc: 0.9941Epoch 1/100\n",
            "49/49 [==============================] - 78s 2s/step - loss: 0.0431 - acc: 0.9942 - val_loss: 0.1125 - val_acc: 0.9500\n",
            "Epoch 97/100\n",
            "48/49 [============================>.] - ETA: 1s - loss: 0.0477 - acc: 0.9928Epoch 1/100\n",
            "49/49 [==============================] - 78s 2s/step - loss: 0.0476 - acc: 0.9923 - val_loss: 0.1157 - val_acc: 0.9500\n",
            "Epoch 98/100\n",
            "48/49 [============================>.] - ETA: 1s - loss: 0.0552 - acc: 0.9843Epoch 1/100\n",
            "49/49 [==============================] - 79s 2s/step - loss: 0.0549 - acc: 0.9846 - val_loss: 0.1272 - val_acc: 0.9400\n",
            "Epoch 99/100\n",
            "48/49 [============================>.] - ETA: 1s - loss: 0.0395 - acc: 0.9934Epoch 1/100\n",
            "49/49 [==============================] - 78s 2s/step - loss: 0.0391 - acc: 0.9936 - val_loss: 0.1262 - val_acc: 0.9633\n",
            "Epoch 100/100\n",
            "48/49 [============================>.] - ETA: 1s - loss: 0.0594 - acc: 0.9856Epoch 1/100\n",
            "49/49 [==============================] - 78s 2s/step - loss: 0.0590 - acc: 0.9859 - val_loss: 0.1511 - val_acc: 0.9467\n"
          ],
          "name": "stdout"
        }
      ]
    },
    {
      "cell_type": "code",
      "metadata": {
        "colab_type": "code",
        "id": "OgAoGs4Y4h1y",
        "colab": {
          "base_uri": "https://localhost:8080/",
          "height": 322
        },
        "outputId": "f97526b6-38cd-4301-eeb1-cb14c2afba75"
      },
      "source": [
        "network.save('/content/drive/My Drive/Deep Steel/InceptionResNetV2/IR_Slr_final.h5')"
      ],
      "execution_count": 25,
      "outputs": [
        {
          "output_type": "error",
          "ename": "KeyboardInterrupt",
          "evalue": "ignored",
          "traceback": [
            "\u001b[0;31m---------------------------------------------------------------------------\u001b[0m",
            "\u001b[0;31mKeyboardInterrupt\u001b[0m                         Traceback (most recent call last)",
            "\u001b[0;32m<ipython-input-25-bc1c4e5ed0e0>\u001b[0m in \u001b[0;36m<module>\u001b[0;34m()\u001b[0m\n\u001b[0;32m----> 1\u001b[0;31m \u001b[0mnetwork\u001b[0m\u001b[0;34m.\u001b[0m\u001b[0msave\u001b[0m\u001b[0;34m(\u001b[0m\u001b[0;34m'/content/drive/My Drive/Deep Steel/InceptionResNetV2/IR_Slr_final.h5'\u001b[0m\u001b[0;34m)\u001b[0m\u001b[0;34m\u001b[0m\u001b[0;34m\u001b[0m\u001b[0m\n\u001b[0m",
            "\u001b[0;32m/tensorflow-1.15.0/python3.6/tensorflow_core/python/keras/engine/network.py\u001b[0m in \u001b[0;36msave\u001b[0;34m(self, filepath, overwrite, include_optimizer, save_format, signatures)\u001b[0m\n\u001b[1;32m   1169\u001b[0m     \"\"\"\n\u001b[1;32m   1170\u001b[0m     saving.save_model(self, filepath, overwrite, include_optimizer, save_format,\n\u001b[0;32m-> 1171\u001b[0;31m                       signatures)\n\u001b[0m\u001b[1;32m   1172\u001b[0m \u001b[0;34m\u001b[0m\u001b[0m\n\u001b[1;32m   1173\u001b[0m   \u001b[0;32mdef\u001b[0m \u001b[0msave_weights\u001b[0m\u001b[0;34m(\u001b[0m\u001b[0mself\u001b[0m\u001b[0;34m,\u001b[0m \u001b[0mfilepath\u001b[0m\u001b[0;34m,\u001b[0m \u001b[0moverwrite\u001b[0m\u001b[0;34m=\u001b[0m\u001b[0;32mTrue\u001b[0m\u001b[0;34m,\u001b[0m \u001b[0msave_format\u001b[0m\u001b[0;34m=\u001b[0m\u001b[0;32mNone\u001b[0m\u001b[0;34m)\u001b[0m\u001b[0;34m:\u001b[0m\u001b[0;34m\u001b[0m\u001b[0;34m\u001b[0m\u001b[0m\n",
            "\u001b[0;32m/tensorflow-1.15.0/python3.6/tensorflow_core/python/keras/saving/save.py\u001b[0m in \u001b[0;36msave_model\u001b[0;34m(model, filepath, overwrite, include_optimizer, save_format, signatures)\u001b[0m\n\u001b[1;32m    107\u001b[0m           'or using `save_weights`.')\n\u001b[1;32m    108\u001b[0m     hdf5_format.save_model_to_hdf5(\n\u001b[0;32m--> 109\u001b[0;31m         model, filepath, overwrite, include_optimizer)\n\u001b[0m\u001b[1;32m    110\u001b[0m   \u001b[0;32melse\u001b[0m\u001b[0;34m:\u001b[0m\u001b[0;34m\u001b[0m\u001b[0;34m\u001b[0m\u001b[0m\n\u001b[1;32m    111\u001b[0m     saved_model_save.save(model, filepath, overwrite, include_optimizer,\n",
            "\u001b[0;32m/tensorflow-1.15.0/python3.6/tensorflow_core/python/keras/saving/hdf5_format.py\u001b[0m in \u001b[0;36msave_model_to_hdf5\u001b[0;34m(model, filepath, overwrite, include_optimizer)\u001b[0m\n\u001b[1;32m    101\u001b[0m     \u001b[0mmodel_weights_group\u001b[0m \u001b[0;34m=\u001b[0m \u001b[0mf\u001b[0m\u001b[0;34m.\u001b[0m\u001b[0mcreate_group\u001b[0m\u001b[0;34m(\u001b[0m\u001b[0;34m'model_weights'\u001b[0m\u001b[0;34m)\u001b[0m\u001b[0;34m\u001b[0m\u001b[0;34m\u001b[0m\u001b[0m\n\u001b[1;32m    102\u001b[0m     \u001b[0mmodel_layers\u001b[0m \u001b[0;34m=\u001b[0m \u001b[0mmodel\u001b[0m\u001b[0;34m.\u001b[0m\u001b[0mlayers\u001b[0m\u001b[0;34m\u001b[0m\u001b[0;34m\u001b[0m\u001b[0m\n\u001b[0;32m--> 103\u001b[0;31m     \u001b[0msave_weights_to_hdf5_group\u001b[0m\u001b[0;34m(\u001b[0m\u001b[0mmodel_weights_group\u001b[0m\u001b[0;34m,\u001b[0m \u001b[0mmodel_layers\u001b[0m\u001b[0;34m)\u001b[0m\u001b[0;34m\u001b[0m\u001b[0;34m\u001b[0m\u001b[0m\n\u001b[0m\u001b[1;32m    104\u001b[0m \u001b[0;34m\u001b[0m\u001b[0m\n\u001b[1;32m    105\u001b[0m     \u001b[0;31m# TODO(b/128683857): Add integration tests between tf.keras and external\u001b[0m\u001b[0;34m\u001b[0m\u001b[0;34m\u001b[0m\u001b[0;34m\u001b[0m\u001b[0m\n",
            "\u001b[0;32m/tensorflow-1.15.0/python3.6/tensorflow_core/python/keras/saving/hdf5_format.py\u001b[0m in \u001b[0;36msave_weights_to_hdf5_group\u001b[0;34m(f, layers)\u001b[0m\n\u001b[1;32m    619\u001b[0m     \u001b[0mg\u001b[0m \u001b[0;34m=\u001b[0m \u001b[0mf\u001b[0m\u001b[0;34m.\u001b[0m\u001b[0mcreate_group\u001b[0m\u001b[0;34m(\u001b[0m\u001b[0mlayer\u001b[0m\u001b[0;34m.\u001b[0m\u001b[0mname\u001b[0m\u001b[0;34m)\u001b[0m\u001b[0;34m\u001b[0m\u001b[0;34m\u001b[0m\u001b[0m\n\u001b[1;32m    620\u001b[0m     \u001b[0mweights\u001b[0m \u001b[0;34m=\u001b[0m \u001b[0m_legacy_weights\u001b[0m\u001b[0;34m(\u001b[0m\u001b[0mlayer\u001b[0m\u001b[0;34m)\u001b[0m\u001b[0;34m\u001b[0m\u001b[0;34m\u001b[0m\u001b[0m\n\u001b[0;32m--> 621\u001b[0;31m     \u001b[0mweight_values\u001b[0m \u001b[0;34m=\u001b[0m \u001b[0mK\u001b[0m\u001b[0;34m.\u001b[0m\u001b[0mbatch_get_value\u001b[0m\u001b[0;34m(\u001b[0m\u001b[0mweights\u001b[0m\u001b[0;34m)\u001b[0m\u001b[0;34m\u001b[0m\u001b[0;34m\u001b[0m\u001b[0m\n\u001b[0m\u001b[1;32m    622\u001b[0m     \u001b[0mweight_names\u001b[0m \u001b[0;34m=\u001b[0m \u001b[0;34m[\u001b[0m\u001b[0mw\u001b[0m\u001b[0;34m.\u001b[0m\u001b[0mname\u001b[0m\u001b[0;34m.\u001b[0m\u001b[0mencode\u001b[0m\u001b[0;34m(\u001b[0m\u001b[0;34m'utf8'\u001b[0m\u001b[0;34m)\u001b[0m \u001b[0;32mfor\u001b[0m \u001b[0mw\u001b[0m \u001b[0;32min\u001b[0m \u001b[0mweights\u001b[0m\u001b[0;34m]\u001b[0m\u001b[0;34m\u001b[0m\u001b[0;34m\u001b[0m\u001b[0m\n\u001b[1;32m    623\u001b[0m     \u001b[0msave_attributes_to_hdf5_group\u001b[0m\u001b[0;34m(\u001b[0m\u001b[0mg\u001b[0m\u001b[0;34m,\u001b[0m \u001b[0;34m'weight_names'\u001b[0m\u001b[0;34m,\u001b[0m \u001b[0mweight_names\u001b[0m\u001b[0;34m)\u001b[0m\u001b[0;34m\u001b[0m\u001b[0;34m\u001b[0m\u001b[0m\n",
            "\u001b[0;32m/tensorflow-1.15.0/python3.6/tensorflow_core/python/keras/backend.py\u001b[0m in \u001b[0;36mbatch_get_value\u001b[0;34m(tensors)\u001b[0m\n\u001b[1;32m   3183\u001b[0m     \u001b[0;32mraise\u001b[0m \u001b[0mRuntimeError\u001b[0m\u001b[0;34m(\u001b[0m\u001b[0;34m'Cannot get value inside Tensorflow graph function.'\u001b[0m\u001b[0;34m)\u001b[0m\u001b[0;34m\u001b[0m\u001b[0;34m\u001b[0m\u001b[0m\n\u001b[1;32m   3184\u001b[0m   \u001b[0;32mif\u001b[0m \u001b[0mtensors\u001b[0m\u001b[0;34m:\u001b[0m\u001b[0;34m\u001b[0m\u001b[0;34m\u001b[0m\u001b[0m\n\u001b[0;32m-> 3185\u001b[0;31m     \u001b[0;32mreturn\u001b[0m \u001b[0mget_session\u001b[0m\u001b[0;34m(\u001b[0m\u001b[0mtensors\u001b[0m\u001b[0;34m)\u001b[0m\u001b[0;34m.\u001b[0m\u001b[0mrun\u001b[0m\u001b[0;34m(\u001b[0m\u001b[0mtensors\u001b[0m\u001b[0;34m)\u001b[0m\u001b[0;34m\u001b[0m\u001b[0;34m\u001b[0m\u001b[0m\n\u001b[0m\u001b[1;32m   3186\u001b[0m   \u001b[0;32melse\u001b[0m\u001b[0;34m:\u001b[0m\u001b[0;34m\u001b[0m\u001b[0;34m\u001b[0m\u001b[0m\n\u001b[1;32m   3187\u001b[0m     \u001b[0;32mreturn\u001b[0m \u001b[0;34m[\u001b[0m\u001b[0;34m]\u001b[0m\u001b[0;34m\u001b[0m\u001b[0;34m\u001b[0m\u001b[0m\n",
            "\u001b[0;32m/tensorflow-1.15.0/python3.6/tensorflow_core/python/client/session.py\u001b[0m in \u001b[0;36mrun\u001b[0;34m(self, fetches, feed_dict, options, run_metadata)\u001b[0m\n\u001b[1;32m    954\u001b[0m     \u001b[0;32mtry\u001b[0m\u001b[0;34m:\u001b[0m\u001b[0;34m\u001b[0m\u001b[0;34m\u001b[0m\u001b[0m\n\u001b[1;32m    955\u001b[0m       result = self._run(None, fetches, feed_dict, options_ptr,\n\u001b[0;32m--> 956\u001b[0;31m                          run_metadata_ptr)\n\u001b[0m\u001b[1;32m    957\u001b[0m       \u001b[0;32mif\u001b[0m \u001b[0mrun_metadata\u001b[0m\u001b[0;34m:\u001b[0m\u001b[0;34m\u001b[0m\u001b[0;34m\u001b[0m\u001b[0m\n\u001b[1;32m    958\u001b[0m         \u001b[0mproto_data\u001b[0m \u001b[0;34m=\u001b[0m \u001b[0mtf_session\u001b[0m\u001b[0;34m.\u001b[0m\u001b[0mTF_GetBuffer\u001b[0m\u001b[0;34m(\u001b[0m\u001b[0mrun_metadata_ptr\u001b[0m\u001b[0;34m)\u001b[0m\u001b[0;34m\u001b[0m\u001b[0;34m\u001b[0m\u001b[0m\n",
            "\u001b[0;32m/tensorflow-1.15.0/python3.6/tensorflow_core/python/client/session.py\u001b[0m in \u001b[0;36m_run\u001b[0;34m(self, handle, fetches, feed_dict, options, run_metadata)\u001b[0m\n\u001b[1;32m   1178\u001b[0m     \u001b[0;32mif\u001b[0m \u001b[0mfinal_fetches\u001b[0m \u001b[0;32mor\u001b[0m \u001b[0mfinal_targets\u001b[0m \u001b[0;32mor\u001b[0m \u001b[0;34m(\u001b[0m\u001b[0mhandle\u001b[0m \u001b[0;32mand\u001b[0m \u001b[0mfeed_dict_tensor\u001b[0m\u001b[0;34m)\u001b[0m\u001b[0;34m:\u001b[0m\u001b[0;34m\u001b[0m\u001b[0;34m\u001b[0m\u001b[0m\n\u001b[1;32m   1179\u001b[0m       results = self._do_run(handle, final_targets, final_fetches,\n\u001b[0;32m-> 1180\u001b[0;31m                              feed_dict_tensor, options, run_metadata)\n\u001b[0m\u001b[1;32m   1181\u001b[0m     \u001b[0;32melse\u001b[0m\u001b[0;34m:\u001b[0m\u001b[0;34m\u001b[0m\u001b[0;34m\u001b[0m\u001b[0m\n\u001b[1;32m   1182\u001b[0m       \u001b[0mresults\u001b[0m \u001b[0;34m=\u001b[0m \u001b[0;34m[\u001b[0m\u001b[0;34m]\u001b[0m\u001b[0;34m\u001b[0m\u001b[0;34m\u001b[0m\u001b[0m\n",
            "\u001b[0;32m/tensorflow-1.15.0/python3.6/tensorflow_core/python/client/session.py\u001b[0m in \u001b[0;36m_do_run\u001b[0;34m(self, handle, target_list, fetch_list, feed_dict, options, run_metadata)\u001b[0m\n\u001b[1;32m   1357\u001b[0m     \u001b[0;32mif\u001b[0m \u001b[0mhandle\u001b[0m \u001b[0;32mis\u001b[0m \u001b[0;32mNone\u001b[0m\u001b[0;34m:\u001b[0m\u001b[0;34m\u001b[0m\u001b[0;34m\u001b[0m\u001b[0m\n\u001b[1;32m   1358\u001b[0m       return self._do_call(_run_fn, feeds, fetches, targets, options,\n\u001b[0;32m-> 1359\u001b[0;31m                            run_metadata)\n\u001b[0m\u001b[1;32m   1360\u001b[0m     \u001b[0;32melse\u001b[0m\u001b[0;34m:\u001b[0m\u001b[0;34m\u001b[0m\u001b[0;34m\u001b[0m\u001b[0m\n\u001b[1;32m   1361\u001b[0m       \u001b[0;32mreturn\u001b[0m \u001b[0mself\u001b[0m\u001b[0;34m.\u001b[0m\u001b[0m_do_call\u001b[0m\u001b[0;34m(\u001b[0m\u001b[0m_prun_fn\u001b[0m\u001b[0;34m,\u001b[0m \u001b[0mhandle\u001b[0m\u001b[0;34m,\u001b[0m \u001b[0mfeeds\u001b[0m\u001b[0;34m,\u001b[0m \u001b[0mfetches\u001b[0m\u001b[0;34m)\u001b[0m\u001b[0;34m\u001b[0m\u001b[0;34m\u001b[0m\u001b[0m\n",
            "\u001b[0;32m/tensorflow-1.15.0/python3.6/tensorflow_core/python/client/session.py\u001b[0m in \u001b[0;36m_do_call\u001b[0;34m(self, fn, *args)\u001b[0m\n\u001b[1;32m   1363\u001b[0m   \u001b[0;32mdef\u001b[0m \u001b[0m_do_call\u001b[0m\u001b[0;34m(\u001b[0m\u001b[0mself\u001b[0m\u001b[0;34m,\u001b[0m \u001b[0mfn\u001b[0m\u001b[0;34m,\u001b[0m \u001b[0;34m*\u001b[0m\u001b[0margs\u001b[0m\u001b[0;34m)\u001b[0m\u001b[0;34m:\u001b[0m\u001b[0;34m\u001b[0m\u001b[0;34m\u001b[0m\u001b[0m\n\u001b[1;32m   1364\u001b[0m     \u001b[0;32mtry\u001b[0m\u001b[0;34m:\u001b[0m\u001b[0;34m\u001b[0m\u001b[0;34m\u001b[0m\u001b[0m\n\u001b[0;32m-> 1365\u001b[0;31m       \u001b[0;32mreturn\u001b[0m \u001b[0mfn\u001b[0m\u001b[0;34m(\u001b[0m\u001b[0;34m*\u001b[0m\u001b[0margs\u001b[0m\u001b[0;34m)\u001b[0m\u001b[0;34m\u001b[0m\u001b[0;34m\u001b[0m\u001b[0m\n\u001b[0m\u001b[1;32m   1366\u001b[0m     \u001b[0;32mexcept\u001b[0m \u001b[0merrors\u001b[0m\u001b[0;34m.\u001b[0m\u001b[0mOpError\u001b[0m \u001b[0;32mas\u001b[0m \u001b[0me\u001b[0m\u001b[0;34m:\u001b[0m\u001b[0;34m\u001b[0m\u001b[0;34m\u001b[0m\u001b[0m\n\u001b[1;32m   1367\u001b[0m       \u001b[0mmessage\u001b[0m \u001b[0;34m=\u001b[0m \u001b[0mcompat\u001b[0m\u001b[0;34m.\u001b[0m\u001b[0mas_text\u001b[0m\u001b[0;34m(\u001b[0m\u001b[0me\u001b[0m\u001b[0;34m.\u001b[0m\u001b[0mmessage\u001b[0m\u001b[0;34m)\u001b[0m\u001b[0;34m\u001b[0m\u001b[0;34m\u001b[0m\u001b[0m\n",
            "\u001b[0;32m/tensorflow-1.15.0/python3.6/tensorflow_core/python/client/session.py\u001b[0m in \u001b[0;36m_run_fn\u001b[0;34m(feed_dict, fetch_list, target_list, options, run_metadata)\u001b[0m\n\u001b[1;32m   1348\u001b[0m       \u001b[0mself\u001b[0m\u001b[0;34m.\u001b[0m\u001b[0m_extend_graph\u001b[0m\u001b[0;34m(\u001b[0m\u001b[0;34m)\u001b[0m\u001b[0;34m\u001b[0m\u001b[0;34m\u001b[0m\u001b[0m\n\u001b[1;32m   1349\u001b[0m       return self._call_tf_sessionrun(options, feed_dict, fetch_list,\n\u001b[0;32m-> 1350\u001b[0;31m                                       target_list, run_metadata)\n\u001b[0m\u001b[1;32m   1351\u001b[0m \u001b[0;34m\u001b[0m\u001b[0m\n\u001b[1;32m   1352\u001b[0m     \u001b[0;32mdef\u001b[0m \u001b[0m_prun_fn\u001b[0m\u001b[0;34m(\u001b[0m\u001b[0mhandle\u001b[0m\u001b[0;34m,\u001b[0m \u001b[0mfeed_dict\u001b[0m\u001b[0;34m,\u001b[0m \u001b[0mfetch_list\u001b[0m\u001b[0;34m)\u001b[0m\u001b[0;34m:\u001b[0m\u001b[0;34m\u001b[0m\u001b[0;34m\u001b[0m\u001b[0m\n",
            "\u001b[0;32m/tensorflow-1.15.0/python3.6/tensorflow_core/python/client/session.py\u001b[0m in \u001b[0;36m_call_tf_sessionrun\u001b[0;34m(self, options, feed_dict, fetch_list, target_list, run_metadata)\u001b[0m\n\u001b[1;32m   1441\u001b[0m     return tf_session.TF_SessionRun_wrapper(self._session, options, feed_dict,\n\u001b[1;32m   1442\u001b[0m                                             \u001b[0mfetch_list\u001b[0m\u001b[0;34m,\u001b[0m \u001b[0mtarget_list\u001b[0m\u001b[0;34m,\u001b[0m\u001b[0;34m\u001b[0m\u001b[0;34m\u001b[0m\u001b[0m\n\u001b[0;32m-> 1443\u001b[0;31m                                             run_metadata)\n\u001b[0m\u001b[1;32m   1444\u001b[0m \u001b[0;34m\u001b[0m\u001b[0m\n\u001b[1;32m   1445\u001b[0m   \u001b[0;32mdef\u001b[0m \u001b[0m_call_tf_sessionprun\u001b[0m\u001b[0;34m(\u001b[0m\u001b[0mself\u001b[0m\u001b[0;34m,\u001b[0m \u001b[0mhandle\u001b[0m\u001b[0;34m,\u001b[0m \u001b[0mfeed_dict\u001b[0m\u001b[0;34m,\u001b[0m \u001b[0mfetch_list\u001b[0m\u001b[0;34m)\u001b[0m\u001b[0;34m:\u001b[0m\u001b[0;34m\u001b[0m\u001b[0;34m\u001b[0m\u001b[0m\n",
            "\u001b[0;31mKeyboardInterrupt\u001b[0m: "
          ]
        }
      ]
    },
    {
      "cell_type": "code",
      "metadata": {
        "colab_type": "code",
        "id": "eSIq7KrU5Zls",
        "colab": {}
      },
      "source": [
        "train_loss = history2.history['loss']\n",
        "train_acc = history2.history['acc']\n",
        "val_loss = history2.history['val_loss']\n",
        "val_acc = history2.history['val_acc']\n",
        "np.save('/content/drive/My Drive/Deep Steel/InceptionResNetV2/IR_tloss0-100.npy',np.array(train_loss))\n",
        "np.save('/content/drive/My Drive/Deep Steel/InceptionResNetV2/IR_tacc0-100.npy', np.array(train_acc))\n",
        "np.save('/content/drive/My Drive/Deep Steel/InceptionResNetV2/IR_loss0-100.npy',np.array(val_loss))\n",
        "np.save('/content/drive/My Drive/Deep Steel/InceptionResNetV2/IR_acc0-100.npy', np.array(val_acc))"
      ],
      "execution_count": 0,
      "outputs": []
    },
    {
      "cell_type": "code",
      "metadata": {
        "id": "01lPPjClPfKu",
        "colab_type": "code",
        "colab": {}
      },
      "source": [
        ""
      ],
      "execution_count": 0,
      "outputs": []
    }
  ]
}